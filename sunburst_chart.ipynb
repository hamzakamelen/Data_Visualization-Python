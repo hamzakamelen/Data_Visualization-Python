{
 "cells": [
  {
   "cell_type": "code",
   "execution_count": 19,
   "metadata": {},
   "outputs": [],
   "source": [
    "import pandas as pd\n",
    "import numpy as np\n",
    "import seaborn as sns\n",
    "import matplotlib.pyplot as plt\n",
    "import plotly.express as px"
   ]
  },
  {
   "cell_type": "code",
   "execution_count": 29,
   "metadata": {},
   "outputs": [],
   "source": [
    "df = sns.load_dataset('titanic')"
   ]
  },
  {
   "cell_type": "code",
   "execution_count": 28,
   "metadata": {},
   "outputs": [
    {
     "data": {
      "application/vnd.plotly.v1+json": {
       "config": {
        "plotlyServerURL": "https://plot.ly"
       },
       "data": [
        {
         "branchvalues": "total",
         "customdata": [
          [
           "no"
          ],
          [
           "yes"
          ],
          [
           "no"
          ],
          [
           null
          ],
          [
           "yes"
          ],
          [
           "no"
          ],
          [
           "yes"
          ],
          [
           "no"
          ],
          [
           "yes"
          ],
          [
           null
          ],
          [
           "yes"
          ],
          [
           null
          ],
          [
           "yes"
          ],
          [
           null
          ],
          [
           null
          ],
          [
           "yes"
          ],
          [
           null
          ],
          [
           "no"
          ],
          [
           null
          ],
          [
           "no"
          ],
          [
           "no"
          ],
          [
           "yes"
          ],
          [
           null
          ],
          [
           "no"
          ],
          [
           "no"
          ],
          [
           null
          ],
          [
           "yes"
          ],
          [
           "no"
          ],
          [
           "yes"
          ],
          [
           "no"
          ],
          [
           "yes"
          ],
          [
           "no"
          ],
          [
           "yes"
          ],
          [
           "no"
          ],
          [
           "yes"
          ],
          [
           "no"
          ],
          [
           "yes"
          ],
          [
           "no"
          ],
          [
           "no"
          ],
          [
           "no"
          ],
          [
           "no"
          ],
          [
           "yes"
          ],
          [
           "no"
          ],
          [
           null
          ],
          [
           null
          ],
          [
           "yes"
          ],
          [
           "no"
          ],
          [
           null
          ],
          [
           "no"
          ],
          [
           "yes"
          ],
          [
           "yes"
          ],
          [
           null
          ],
          [
           null
          ],
          [
           "yes"
          ],
          [
           "no"
          ],
          [
           null
          ],
          [
           null
          ],
          [
           null
          ],
          [
           "no"
          ],
          [
           null
          ],
          [
           null
          ],
          [
           null
          ],
          [
           null
          ],
          [
           null
          ],
          [
           "no"
          ],
          [
           null
          ],
          [
           null
          ],
          [
           "yes"
          ],
          [
           null
          ],
          [
           "yes"
          ],
          [
           "yes"
          ],
          [
           "no"
          ],
          [
           null
          ],
          [
           null
          ],
          [
           null
          ],
          [
           null
          ],
          [
           null
          ],
          [
           null
          ],
          [
           "no"
          ],
          [
           "yes"
          ],
          [
           "yes"
          ],
          [
           null
          ],
          [
           "yes"
          ],
          [
           null
          ],
          [
           null
          ],
          [
           "yes"
          ],
          [
           null
          ],
          [
           "yes"
          ],
          [
           "no"
          ],
          [
           "yes"
          ],
          [
           "no"
          ],
          [
           "yes"
          ],
          [
           null
          ],
          [
           "yes"
          ],
          [
           "yes"
          ],
          [
           null
          ],
          [
           null
          ],
          [
           null
          ],
          [
           "no"
          ],
          [
           null
          ],
          [
           "yes"
          ],
          [
           null
          ],
          [
           "no"
          ],
          [
           null
          ],
          [
           "yes"
          ],
          [
           "no"
          ],
          [
           null
          ],
          [
           "yes"
          ],
          [
           null
          ],
          [
           "no"
          ],
          [
           null
          ],
          [
           null
          ],
          [
           null
          ],
          [
           null
          ],
          [
           "yes"
          ],
          [
           "yes"
          ],
          [
           "no"
          ],
          [
           "no"
          ],
          [
           null
          ],
          [
           null
          ],
          [
           null
          ],
          [
           "no"
          ],
          [
           "yes"
          ],
          [
           "yes"
          ],
          [
           "yes"
          ],
          [
           "yes"
          ]
         ],
         "domain": {
          "x": [
           0,
           1
          ],
          "y": [
           0,
           1
          ]
         },
         "hovertemplate": "labels=%{label}<br>fare=%{value}<br>parent=%{parent}<br>id=%{id}<br>alive=%{customdata[0]}<extra></extra>",
         "ids": [
          "no/female/First/child/False",
          "yes/male/Second/man",
          "no/male/Second/man",
          "yes/female/Second/man",
          "yes/male/First/man",
          "no/male/First/man",
          "yes/male/Third/child",
          "no/female/Third/child",
          "yes/female/Second/child",
          "no/female/Second/child",
          "yes/male/First/child",
          "no/female/Third/man",
          "yes/female/First/child",
          "yes/male/Third/woman/True",
          "no/male/Third/woman/True",
          "yes/female/Third/woman/True",
          "yes/male/Second/woman/True",
          "no/female/Second/woman/True",
          "yes/male/First/woman/True",
          "no",
          "no/female/First/woman/True",
          "yes/male/Third/man/True",
          "yes/female/Third/man/True",
          "no/female/First/child",
          "no/male/Second/man/True",
          "yes/female/Third/man",
          "yes/male/Third/man",
          "no/male",
          "yes/female",
          "no/female",
          "yes/male/Third",
          "no/male/Third",
          "yes/female/Third",
          "no/female/Third",
          "yes/male/Second",
          "no/male/Second",
          "yes/female/Second",
          "no/male/Third/man",
          "no/female/Second",
          "no/male/First",
          "no/female/First",
          "yes/female/Third/woman",
          "no/female/Third/woman",
          "yes/male/Second/woman",
          "no/male/Second/woman",
          "yes/female/Second/woman",
          "no/female/Second/woman",
          "yes/male/First/woman",
          "no/female/First/woman",
          "yes/male/First",
          "yes/male/First/man/True",
          "no/male/First/woman/True",
          "no/female/First/man/False",
          "yes/female/Third/woman/False",
          "no/male/First/man/False",
          "no/male/Third/woman/False",
          "yes/male/Third/woman/False",
          "yes/female/First/man/False",
          "no/male/Second/man/False",
          "yes/female/First/child/True",
          "no/male/First/child/True",
          "no/male/Second/woman/False",
          "no/female/Second/child/True",
          "yes/female/Second/child/True",
          "no/male/First/man/True",
          "no/female/Second/man/False",
          "no/male/Second/child/True",
          "yes/male/Second/child/False",
          "no/male/Second/child/False",
          "yes/female/Third/child/True",
          "yes/female/Second/child/False",
          "no/male/Third/child/True",
          "no/female/Second/child/False",
          "yes/male/First/woman/False",
          "no/female/First/man/True",
          "no/male/First/woman/False",
          "no/female/Third/man/False",
          "yes/female/First/man/True",
          "no/female/First/woman/False",
          "yes/female/Second/woman/False",
          "yes/male/Second/man/False",
          "yes/female/Second/man/False",
          "yes/male/First/man/False",
          "no/female/Second/man/True",
          "yes/male/Third/woman",
          "yes/female/First",
          "yes/female/Third/man/False",
          "yes/male/Third/child/False",
          "no/male/Third/child/False",
          "yes/female/Third/child/False",
          "no/female/Third/child/False",
          "yes/male/First/child/False",
          "no/male/First/child/False",
          "yes/female/First/child/False",
          "yes/male",
          "no/male/Third/woman",
          "no/male/First/woman",
          "no/female/Second/man",
          "no/male/Third/man/False",
          "yes/female/Second/man/True",
          "yes/male/Second/man/True",
          "no/female/Third/man/True",
          "no/male/Third/man/True",
          "yes/male/Third/child/True",
          "yes/female/First/woman/True",
          "no/female/Third/child/True",
          "yes/male/Second/child/True",
          "yes/female/Second/woman/True",
          "no/male/Second/woman/True",
          "no/female/Third/woman/True",
          "yes/male/First/child/True",
          "no/male/First/child",
          "no/female/First/child/True",
          "no/male/Second/child",
          "yes/male/Second/child",
          "yes/female/Third/child",
          "no/male/Third/child",
          "no/female/Third/woman/False",
          "no/female/First/man",
          "yes/female/First/man",
          "yes/male/Second/woman/False",
          "no/female/Second/woman/False",
          "yes/female/First/woman/False",
          "yes/male/Third/man/False",
          "yes/female/First/woman",
          "yes"
         ],
         "labels": [
          "False",
          "man",
          "man",
          "man",
          "man",
          "man",
          "child",
          "child",
          "child",
          "child",
          "child",
          "man",
          "child",
          "True",
          "True",
          "True",
          "True",
          "True",
          "True",
          "no",
          "True",
          "True",
          "True",
          "child",
          "True",
          "man",
          "man",
          "male",
          "female",
          "female",
          "Third",
          "Third",
          "Third",
          "Third",
          "Second",
          "Second",
          "Second",
          "man",
          "Second",
          "First",
          "First",
          "woman",
          "woman",
          "woman",
          "woman",
          "woman",
          "woman",
          "woman",
          "woman",
          "First",
          "True",
          "True",
          "False",
          "False",
          "False",
          "False",
          "False",
          "False",
          "False",
          "True",
          "True",
          "False",
          "True",
          "True",
          "True",
          "False",
          "True",
          "False",
          "False",
          "True",
          "False",
          "True",
          "False",
          "False",
          "True",
          "False",
          "False",
          "True",
          "False",
          "False",
          "False",
          "False",
          "False",
          "True",
          "woman",
          "First",
          "False",
          "False",
          "False",
          "False",
          "False",
          "False",
          "False",
          "False",
          "male",
          "woman",
          "woman",
          "man",
          "False",
          "True",
          "True",
          "True",
          "True",
          "True",
          "True",
          "True",
          "True",
          "True",
          "True",
          "True",
          "True",
          "child",
          "True",
          "child",
          "child",
          "child",
          "child",
          "False",
          "man",
          "man",
          "False",
          "False",
          "False",
          "False",
          "woman",
          "yes"
         ],
         "marker": {
          "colors": [
           "#636efa",
           "#EF553B",
           "#636efa",
           "#00cc96",
           "#EF553B",
           "#636efa",
           "#EF553B",
           "#636efa",
           "#EF553B",
           "#00cc96",
           "#EF553B",
           "#00cc96",
           "#EF553B",
           "#00cc96",
           "#00cc96",
           "#EF553B",
           "#00cc96",
           "#636efa",
           "#00cc96",
           "#636efa",
           "#636efa",
           "#EF553B",
           "#00cc96",
           "#636efa",
           "#636efa",
           "#00cc96",
           "#EF553B",
           "#636efa",
           "#EF553B",
           "#636efa",
           "#EF553B",
           "#636efa",
           "#EF553B",
           "#636efa",
           "#EF553B",
           "#636efa",
           "#EF553B",
           "#636efa",
           "#636efa",
           "#636efa",
           "#636efa",
           "#EF553B",
           "#636efa",
           "#00cc96",
           "#00cc96",
           "#EF553B",
           "#636efa",
           "#00cc96",
           "#636efa",
           "#EF553B",
           "#EF553B",
           "#00cc96",
           "#00cc96",
           "#EF553B",
           "#636efa",
           "#00cc96",
           "#00cc96",
           "#00cc96",
           "#636efa",
           "#00cc96",
           "#00cc96",
           "#00cc96",
           "#00cc96",
           "#00cc96",
           "#636efa",
           "#00cc96",
           "#00cc96",
           "#EF553B",
           "#00cc96",
           "#EF553B",
           "#EF553B",
           "#636efa",
           "#00cc96",
           "#00cc96",
           "#00cc96",
           "#00cc96",
           "#00cc96",
           "#00cc96",
           "#636efa",
           "#EF553B",
           "#EF553B",
           "#00cc96",
           "#EF553B",
           "#00cc96",
           "#00cc96",
           "#EF553B",
           "#00cc96",
           "#EF553B",
           "#636efa",
           "#EF553B",
           "#636efa",
           "#EF553B",
           "#00cc96",
           "#EF553B",
           "#EF553B",
           "#00cc96",
           "#00cc96",
           "#00cc96",
           "#636efa",
           "#00cc96",
           "#EF553B",
           "#00cc96",
           "#636efa",
           "#00cc96",
           "#EF553B",
           "#636efa",
           "#00cc96",
           "#EF553B",
           "#00cc96",
           "#636efa",
           "#00cc96",
           "#00cc96",
           "#00cc96",
           "#00cc96",
           "#EF553B",
           "#EF553B",
           "#636efa",
           "#636efa",
           "#00cc96",
           "#00cc96",
           "#00cc96",
           "#636efa",
           "#EF553B",
           "#EF553B",
           "#EF553B",
           "#EF553B"
          ]
         },
         "name": "",
         "parents": [
          "no/female/First/child",
          "yes/male/Second",
          "no/male/Second",
          "yes/female/Second",
          "yes/male/First",
          "no/male/First",
          "yes/male/Third",
          "no/female/Third",
          "yes/female/Second",
          "no/female/Second",
          "yes/male/First",
          "no/female/Third",
          "yes/female/First",
          "yes/male/Third/woman",
          "no/male/Third/woman",
          "yes/female/Third/woman",
          "yes/male/Second/woman",
          "no/female/Second/woman",
          "yes/male/First/woman",
          "",
          "no/female/First/woman",
          "yes/male/Third/man",
          "yes/female/Third/man",
          "no/female/First",
          "no/male/Second/man",
          "yes/female/Third",
          "yes/male/Third",
          "no",
          "yes",
          "no",
          "yes/male",
          "no/male",
          "yes/female",
          "no/female",
          "yes/male",
          "no/male",
          "yes/female",
          "no/male/Third",
          "no/female",
          "no/male",
          "no/female",
          "yes/female/Third",
          "no/female/Third",
          "yes/male/Second",
          "no/male/Second",
          "yes/female/Second",
          "no/female/Second",
          "yes/male/First",
          "no/female/First",
          "yes/male",
          "yes/male/First/man",
          "no/male/First/woman",
          "no/female/First/man",
          "yes/female/Third/woman",
          "no/male/First/man",
          "no/male/Third/woman",
          "yes/male/Third/woman",
          "yes/female/First/man",
          "no/male/Second/man",
          "yes/female/First/child",
          "no/male/First/child",
          "no/male/Second/woman",
          "no/female/Second/child",
          "yes/female/Second/child",
          "no/male/First/man",
          "no/female/Second/man",
          "no/male/Second/child",
          "yes/male/Second/child",
          "no/male/Second/child",
          "yes/female/Third/child",
          "yes/female/Second/child",
          "no/male/Third/child",
          "no/female/Second/child",
          "yes/male/First/woman",
          "no/female/First/man",
          "no/male/First/woman",
          "no/female/Third/man",
          "yes/female/First/man",
          "no/female/First/woman",
          "yes/female/Second/woman",
          "yes/male/Second/man",
          "yes/female/Second/man",
          "yes/male/First/man",
          "no/female/Second/man",
          "yes/male/Third",
          "yes/female",
          "yes/female/Third/man",
          "yes/male/Third/child",
          "no/male/Third/child",
          "yes/female/Third/child",
          "no/female/Third/child",
          "yes/male/First/child",
          "no/male/First/child",
          "yes/female/First/child",
          "yes",
          "no/male/Third",
          "no/male/First",
          "no/female/Second",
          "no/male/Third/man",
          "yes/female/Second/man",
          "yes/male/Second/man",
          "no/female/Third/man",
          "no/male/Third/man",
          "yes/male/Third/child",
          "yes/female/First/woman",
          "no/female/Third/child",
          "yes/male/Second/child",
          "yes/female/Second/woman",
          "no/male/Second/woman",
          "no/female/Third/woman",
          "yes/male/First/child",
          "no/male/First",
          "no/female/First/child",
          "no/male/Second",
          "yes/male/Second",
          "yes/female/Third",
          "no/male/Third",
          "no/female/Third/woman",
          "no/female/First",
          "yes/female/First",
          "yes/male/Second/woman",
          "no/female/Second/woman",
          "yes/female/First/woman",
          "yes/male/Third/man",
          "yes/female/First",
          ""
         ],
         "type": "sunburst",
         "values": [
          151.55,
          112.8625,
          1773.4958,
          0,
          3005.2711,
          4842.9081,
          147.6542,
          329.5917,
          292.4,
          0,
          353.4083,
          0,
          331.3375,
          0,
          0,
          264.3043,
          0,
          36.5,
          0,
          12142.7199,
          28.7125,
          499.4082,
          0,
          151.55,
          934.6208,
          0,
          584.5915,
          10277.7447,
          12101.6876,
          1864.9751999999999,
          732.2457,
          3661.3408,
          897.4458999999999,
          1423.6626999999999,
          358.6167,
          1773.4958,
          1560.2292,
          3032.9366,
          109.5,
          4842.9081,
          331.8125,
          656.325,
          1094.071,
          0,
          0,
          1267.8292,
          109.5,
          0,
          180.26250000000002,
          3358.6794,
          1259.3584,
          0,
          0,
          392.0207,
          2764.6208,
          0,
          0,
          0,
          838.875,
          0,
          0,
          0,
          0,
          0,
          2078.2873,
          0,
          0,
          245.7542,
          0,
          34.9584,
          292.4,
          18.7875,
          0,
          0,
          0,
          0,
          0,
          0,
          151.55,
          862.9375,
          26,
          0,
          1745.9127,
          0,
          0,
          9644.0125,
          0,
          147.6542,
          609.6167,
          206.1625,
          321.7375,
          353.4083,
          0,
          331.3375,
          4449.5418,
          0,
          0,
          0,
          1041.0711000000001,
          0,
          86.8625,
          0,
          1991.8655,
          0,
          3573.9458,
          7.8542,
          0,
          404.8917,
          0,
          186.9667,
          0,
          0,
          0,
          0,
          245.7542,
          241.12089999999998,
          628.4042,
          907.1043,
          0,
          0,
          0,
          73,
          5738.7292,
          85.1833,
          9312.675,
          16551.2294
         ]
        }
       ],
       "layout": {
        "legend": {
         "tracegroupgap": 0
        },
        "margin": {
         "t": 60
        },
        "template": {
         "data": {
          "bar": [
           {
            "error_x": {
             "color": "#2a3f5f"
            },
            "error_y": {
             "color": "#2a3f5f"
            },
            "marker": {
             "line": {
              "color": "#E5ECF6",
              "width": 0.5
             },
             "pattern": {
              "fillmode": "overlay",
              "size": 10,
              "solidity": 0.2
             }
            },
            "type": "bar"
           }
          ],
          "barpolar": [
           {
            "marker": {
             "line": {
              "color": "#E5ECF6",
              "width": 0.5
             },
             "pattern": {
              "fillmode": "overlay",
              "size": 10,
              "solidity": 0.2
             }
            },
            "type": "barpolar"
           }
          ],
          "carpet": [
           {
            "aaxis": {
             "endlinecolor": "#2a3f5f",
             "gridcolor": "white",
             "linecolor": "white",
             "minorgridcolor": "white",
             "startlinecolor": "#2a3f5f"
            },
            "baxis": {
             "endlinecolor": "#2a3f5f",
             "gridcolor": "white",
             "linecolor": "white",
             "minorgridcolor": "white",
             "startlinecolor": "#2a3f5f"
            },
            "type": "carpet"
           }
          ],
          "choropleth": [
           {
            "colorbar": {
             "outlinewidth": 0,
             "ticks": ""
            },
            "type": "choropleth"
           }
          ],
          "contour": [
           {
            "colorbar": {
             "outlinewidth": 0,
             "ticks": ""
            },
            "colorscale": [
             [
              0,
              "#0d0887"
             ],
             [
              0.1111111111111111,
              "#46039f"
             ],
             [
              0.2222222222222222,
              "#7201a8"
             ],
             [
              0.3333333333333333,
              "#9c179e"
             ],
             [
              0.4444444444444444,
              "#bd3786"
             ],
             [
              0.5555555555555556,
              "#d8576b"
             ],
             [
              0.6666666666666666,
              "#ed7953"
             ],
             [
              0.7777777777777778,
              "#fb9f3a"
             ],
             [
              0.8888888888888888,
              "#fdca26"
             ],
             [
              1,
              "#f0f921"
             ]
            ],
            "type": "contour"
           }
          ],
          "contourcarpet": [
           {
            "colorbar": {
             "outlinewidth": 0,
             "ticks": ""
            },
            "type": "contourcarpet"
           }
          ],
          "heatmap": [
           {
            "colorbar": {
             "outlinewidth": 0,
             "ticks": ""
            },
            "colorscale": [
             [
              0,
              "#0d0887"
             ],
             [
              0.1111111111111111,
              "#46039f"
             ],
             [
              0.2222222222222222,
              "#7201a8"
             ],
             [
              0.3333333333333333,
              "#9c179e"
             ],
             [
              0.4444444444444444,
              "#bd3786"
             ],
             [
              0.5555555555555556,
              "#d8576b"
             ],
             [
              0.6666666666666666,
              "#ed7953"
             ],
             [
              0.7777777777777778,
              "#fb9f3a"
             ],
             [
              0.8888888888888888,
              "#fdca26"
             ],
             [
              1,
              "#f0f921"
             ]
            ],
            "type": "heatmap"
           }
          ],
          "heatmapgl": [
           {
            "colorbar": {
             "outlinewidth": 0,
             "ticks": ""
            },
            "colorscale": [
             [
              0,
              "#0d0887"
             ],
             [
              0.1111111111111111,
              "#46039f"
             ],
             [
              0.2222222222222222,
              "#7201a8"
             ],
             [
              0.3333333333333333,
              "#9c179e"
             ],
             [
              0.4444444444444444,
              "#bd3786"
             ],
             [
              0.5555555555555556,
              "#d8576b"
             ],
             [
              0.6666666666666666,
              "#ed7953"
             ],
             [
              0.7777777777777778,
              "#fb9f3a"
             ],
             [
              0.8888888888888888,
              "#fdca26"
             ],
             [
              1,
              "#f0f921"
             ]
            ],
            "type": "heatmapgl"
           }
          ],
          "histogram": [
           {
            "marker": {
             "pattern": {
              "fillmode": "overlay",
              "size": 10,
              "solidity": 0.2
             }
            },
            "type": "histogram"
           }
          ],
          "histogram2d": [
           {
            "colorbar": {
             "outlinewidth": 0,
             "ticks": ""
            },
            "colorscale": [
             [
              0,
              "#0d0887"
             ],
             [
              0.1111111111111111,
              "#46039f"
             ],
             [
              0.2222222222222222,
              "#7201a8"
             ],
             [
              0.3333333333333333,
              "#9c179e"
             ],
             [
              0.4444444444444444,
              "#bd3786"
             ],
             [
              0.5555555555555556,
              "#d8576b"
             ],
             [
              0.6666666666666666,
              "#ed7953"
             ],
             [
              0.7777777777777778,
              "#fb9f3a"
             ],
             [
              0.8888888888888888,
              "#fdca26"
             ],
             [
              1,
              "#f0f921"
             ]
            ],
            "type": "histogram2d"
           }
          ],
          "histogram2dcontour": [
           {
            "colorbar": {
             "outlinewidth": 0,
             "ticks": ""
            },
            "colorscale": [
             [
              0,
              "#0d0887"
             ],
             [
              0.1111111111111111,
              "#46039f"
             ],
             [
              0.2222222222222222,
              "#7201a8"
             ],
             [
              0.3333333333333333,
              "#9c179e"
             ],
             [
              0.4444444444444444,
              "#bd3786"
             ],
             [
              0.5555555555555556,
              "#d8576b"
             ],
             [
              0.6666666666666666,
              "#ed7953"
             ],
             [
              0.7777777777777778,
              "#fb9f3a"
             ],
             [
              0.8888888888888888,
              "#fdca26"
             ],
             [
              1,
              "#f0f921"
             ]
            ],
            "type": "histogram2dcontour"
           }
          ],
          "mesh3d": [
           {
            "colorbar": {
             "outlinewidth": 0,
             "ticks": ""
            },
            "type": "mesh3d"
           }
          ],
          "parcoords": [
           {
            "line": {
             "colorbar": {
              "outlinewidth": 0,
              "ticks": ""
             }
            },
            "type": "parcoords"
           }
          ],
          "pie": [
           {
            "automargin": true,
            "type": "pie"
           }
          ],
          "scatter": [
           {
            "fillpattern": {
             "fillmode": "overlay",
             "size": 10,
             "solidity": 0.2
            },
            "type": "scatter"
           }
          ],
          "scatter3d": [
           {
            "line": {
             "colorbar": {
              "outlinewidth": 0,
              "ticks": ""
             }
            },
            "marker": {
             "colorbar": {
              "outlinewidth": 0,
              "ticks": ""
             }
            },
            "type": "scatter3d"
           }
          ],
          "scattercarpet": [
           {
            "marker": {
             "colorbar": {
              "outlinewidth": 0,
              "ticks": ""
             }
            },
            "type": "scattercarpet"
           }
          ],
          "scattergeo": [
           {
            "marker": {
             "colorbar": {
              "outlinewidth": 0,
              "ticks": ""
             }
            },
            "type": "scattergeo"
           }
          ],
          "scattergl": [
           {
            "marker": {
             "colorbar": {
              "outlinewidth": 0,
              "ticks": ""
             }
            },
            "type": "scattergl"
           }
          ],
          "scattermapbox": [
           {
            "marker": {
             "colorbar": {
              "outlinewidth": 0,
              "ticks": ""
             }
            },
            "type": "scattermapbox"
           }
          ],
          "scatterpolar": [
           {
            "marker": {
             "colorbar": {
              "outlinewidth": 0,
              "ticks": ""
             }
            },
            "type": "scatterpolar"
           }
          ],
          "scatterpolargl": [
           {
            "marker": {
             "colorbar": {
              "outlinewidth": 0,
              "ticks": ""
             }
            },
            "type": "scatterpolargl"
           }
          ],
          "scatterternary": [
           {
            "marker": {
             "colorbar": {
              "outlinewidth": 0,
              "ticks": ""
             }
            },
            "type": "scatterternary"
           }
          ],
          "surface": [
           {
            "colorbar": {
             "outlinewidth": 0,
             "ticks": ""
            },
            "colorscale": [
             [
              0,
              "#0d0887"
             ],
             [
              0.1111111111111111,
              "#46039f"
             ],
             [
              0.2222222222222222,
              "#7201a8"
             ],
             [
              0.3333333333333333,
              "#9c179e"
             ],
             [
              0.4444444444444444,
              "#bd3786"
             ],
             [
              0.5555555555555556,
              "#d8576b"
             ],
             [
              0.6666666666666666,
              "#ed7953"
             ],
             [
              0.7777777777777778,
              "#fb9f3a"
             ],
             [
              0.8888888888888888,
              "#fdca26"
             ],
             [
              1,
              "#f0f921"
             ]
            ],
            "type": "surface"
           }
          ],
          "table": [
           {
            "cells": {
             "fill": {
              "color": "#EBF0F8"
             },
             "line": {
              "color": "white"
             }
            },
            "header": {
             "fill": {
              "color": "#C8D4E3"
             },
             "line": {
              "color": "white"
             }
            },
            "type": "table"
           }
          ]
         },
         "layout": {
          "annotationdefaults": {
           "arrowcolor": "#2a3f5f",
           "arrowhead": 0,
           "arrowwidth": 1
          },
          "autotypenumbers": "strict",
          "coloraxis": {
           "colorbar": {
            "outlinewidth": 0,
            "ticks": ""
           }
          },
          "colorscale": {
           "diverging": [
            [
             0,
             "#8e0152"
            ],
            [
             0.1,
             "#c51b7d"
            ],
            [
             0.2,
             "#de77ae"
            ],
            [
             0.3,
             "#f1b6da"
            ],
            [
             0.4,
             "#fde0ef"
            ],
            [
             0.5,
             "#f7f7f7"
            ],
            [
             0.6,
             "#e6f5d0"
            ],
            [
             0.7,
             "#b8e186"
            ],
            [
             0.8,
             "#7fbc41"
            ],
            [
             0.9,
             "#4d9221"
            ],
            [
             1,
             "#276419"
            ]
           ],
           "sequential": [
            [
             0,
             "#0d0887"
            ],
            [
             0.1111111111111111,
             "#46039f"
            ],
            [
             0.2222222222222222,
             "#7201a8"
            ],
            [
             0.3333333333333333,
             "#9c179e"
            ],
            [
             0.4444444444444444,
             "#bd3786"
            ],
            [
             0.5555555555555556,
             "#d8576b"
            ],
            [
             0.6666666666666666,
             "#ed7953"
            ],
            [
             0.7777777777777778,
             "#fb9f3a"
            ],
            [
             0.8888888888888888,
             "#fdca26"
            ],
            [
             1,
             "#f0f921"
            ]
           ],
           "sequentialminus": [
            [
             0,
             "#0d0887"
            ],
            [
             0.1111111111111111,
             "#46039f"
            ],
            [
             0.2222222222222222,
             "#7201a8"
            ],
            [
             0.3333333333333333,
             "#9c179e"
            ],
            [
             0.4444444444444444,
             "#bd3786"
            ],
            [
             0.5555555555555556,
             "#d8576b"
            ],
            [
             0.6666666666666666,
             "#ed7953"
            ],
            [
             0.7777777777777778,
             "#fb9f3a"
            ],
            [
             0.8888888888888888,
             "#fdca26"
            ],
            [
             1,
             "#f0f921"
            ]
           ]
          },
          "colorway": [
           "#636efa",
           "#EF553B",
           "#00cc96",
           "#ab63fa",
           "#FFA15A",
           "#19d3f3",
           "#FF6692",
           "#B6E880",
           "#FF97FF",
           "#FECB52"
          ],
          "font": {
           "color": "#2a3f5f"
          },
          "geo": {
           "bgcolor": "white",
           "lakecolor": "white",
           "landcolor": "#E5ECF6",
           "showlakes": true,
           "showland": true,
           "subunitcolor": "white"
          },
          "hoverlabel": {
           "align": "left"
          },
          "hovermode": "closest",
          "mapbox": {
           "style": "light"
          },
          "paper_bgcolor": "white",
          "plot_bgcolor": "#E5ECF6",
          "polar": {
           "angularaxis": {
            "gridcolor": "white",
            "linecolor": "white",
            "ticks": ""
           },
           "bgcolor": "#E5ECF6",
           "radialaxis": {
            "gridcolor": "white",
            "linecolor": "white",
            "ticks": ""
           }
          },
          "scene": {
           "xaxis": {
            "backgroundcolor": "#E5ECF6",
            "gridcolor": "white",
            "gridwidth": 2,
            "linecolor": "white",
            "showbackground": true,
            "ticks": "",
            "zerolinecolor": "white"
           },
           "yaxis": {
            "backgroundcolor": "#E5ECF6",
            "gridcolor": "white",
            "gridwidth": 2,
            "linecolor": "white",
            "showbackground": true,
            "ticks": "",
            "zerolinecolor": "white"
           },
           "zaxis": {
            "backgroundcolor": "#E5ECF6",
            "gridcolor": "white",
            "gridwidth": 2,
            "linecolor": "white",
            "showbackground": true,
            "ticks": "",
            "zerolinecolor": "white"
           }
          },
          "shapedefaults": {
           "line": {
            "color": "#2a3f5f"
           }
          },
          "ternary": {
           "aaxis": {
            "gridcolor": "white",
            "linecolor": "white",
            "ticks": ""
           },
           "baxis": {
            "gridcolor": "white",
            "linecolor": "white",
            "ticks": ""
           },
           "bgcolor": "#E5ECF6",
           "caxis": {
            "gridcolor": "white",
            "linecolor": "white",
            "ticks": ""
           }
          },
          "title": {
           "x": 0.05
          },
          "xaxis": {
           "automargin": true,
           "gridcolor": "white",
           "linecolor": "white",
           "ticks": "",
           "title": {
            "standoff": 15
           },
           "zerolinecolor": "white",
           "zerolinewidth": 2
          },
          "yaxis": {
           "automargin": true,
           "gridcolor": "white",
           "linecolor": "white",
           "ticks": "",
           "title": {
            "standoff": 15
           },
           "zerolinecolor": "white",
           "zerolinewidth": 2
          }
         }
        }
       }
      }
     },
     "metadata": {},
     "output_type": "display_data"
    }
   ],
   "source": [
    "px.sunburst(df,path=['alive','sex','class','who','alone'],values='fare',color='alive')"
   ]
  }
 ],
 "metadata": {
  "kernelspec": {
   "display_name": "base",
   "language": "python",
   "name": "python3"
  },
  "language_info": {
   "codemirror_mode": {
    "name": "ipython",
    "version": 3
   },
   "file_extension": ".py",
   "mimetype": "text/x-python",
   "name": "python",
   "nbconvert_exporter": "python",
   "pygments_lexer": "ipython3",
   "version": "3.11.5"
  }
 },
 "nbformat": 4,
 "nbformat_minor": 2
}
